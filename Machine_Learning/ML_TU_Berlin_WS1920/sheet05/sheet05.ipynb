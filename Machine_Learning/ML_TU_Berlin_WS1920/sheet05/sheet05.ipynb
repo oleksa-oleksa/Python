{
 "cells": [
  {
   "cell_type": "markdown",
   "metadata": {},
   "source": [
    "# Expectation-Maximization\n",
    "\n",
    "In this assignment we will be using the Expectation Maximization method to estimate the parameters of the same three coin experiment as in the theoretical part. We will examine the behavior of the algorithm for various combinations of parameters.\n",
    "\n",
    "## Description of the Experiment\n",
    "\n",
    "The following procedure generates the data for the three coin experiment.\n",
    "\n",
    "The parameters are:\n",
    "\n",
    "- $\\lambda$ := The probability of heads on the hidden coin H.\n",
    "\n",
    "- $p_1$ := The probability of heads on coin A.\n",
    "\n",
    "- $p_2$ := The probability of heads on coin B.\n",
    "\n",
    "Each of the $N$ samples is collected the following way:\n",
    "\n",
    "- The secret coin (H) is tossed.\n",
    "\n",
    "- If the result is heads, coin A is tossed $M$ times and the results are recorded.\n",
    "\n",
    "- If the result is tails, coin B is tossed $M$ times and the results are recorded.\n",
    "\n",
    "**Heads are recorded as 1.** \n",
    "\n",
    "**Tails are recorded as 0.**\n",
    "\n",
    "The data is returned as an **$N \\times M$** matrix, where each of the $N$ rows correspond to the trials and contains the results of the corresponding sample (generated either by coin A or by coin B).\n",
    "\n",
    "## Description of Provided Functions\n",
    "\n",
    "Three functions are provided for your convenience:\n",
    "\n",
    "*  **`utils.generateData(lambda,p1,p2,N,M)`:** Performs the experiment $N$ times with coin parameters specified as argument and returns the results in a $N \\times M$ matrix.\n",
    "\n",
    "\n",
    "* **`utils.unknownData()`** Returns a dataset of size $N \\times M$ where generation parameters are unknown.\n",
    "\n",
    "\n",
    "*  **`utils.plot(data,distribution)`:** Plot a histogram of the number of heads per trial along with the probability distribution. This function will be used to visualize the progress of the EM algorithm at every iteration.\n",
    "\n",
    "An example of use of these two functions is given below:"
   ]
  },
  {
   "cell_type": "code",
   "execution_count": 4,
   "metadata": {},
   "outputs": [
    {
     "name": "stdout",
     "output_type": "stream",
     "text": [
      "[[1 1 0 1 0]\n",
      " [1 1 1 1 1]\n",
      " [1 1 1 1 0]\n",
      " [1 1 0 0 1]\n",
      " [1 1 1 1 0]\n",
      " [0 0 0 1 0]\n",
      " [0 0 1 0 1]\n",
      " [0 0 0 0 0]\n",
      " [0 1 0 0 1]\n",
      " [1 1 1 1 1]\n",
      " [0 0 0 1 0]\n",
      " [1 1 1 1 1]\n",
      " [0 1 1 1 0]\n",
      " [0 0 0 0 0]\n",
      " [1 0 0 0 0]]\n"
     ]
    },
    {
     "data": {
      "image/png": "[encoded data removed]",
      "text/plain": [
       "<Figure size 504x360 with 2 Axes>"
      ]
     },
     "metadata": {
      "needs_background": "light"
     },
     "output_type": "display_data"
    }
   ],
   "source": [
    "%matplotlib inline\n",
    "import numpy,utils\n",
    "\n",
    "# Print the data matrix as a result of the three coins experiment with parameter 0.5, 0.8 and 0.2.\n",
    "data = utils.generateData(0.5,0.8,0.2,15,5)\n",
    "print(data)\n",
    "\n",
    "# Print the data histogram along with a uniform probability distribution.\n",
    "utils.plot(data,numpy.ones([data.shape[1]+1])/(data.shape[1]+1))"
   ]
  },
  {
   "cell_type": "markdown",
   "metadata": {},
   "source": [
    "## Calculate the Log-Likelihood (15 P)\n",
    "\n",
    "Implement a function which calculates the log likelihood for a given dataset and parameters. The log-likelihood is given by:\n",
    "$$\n",
    "LL = \\frac1N \\sum_{i=1}^N \\log \\!\\! \\sum_{z \\in \\{\\mathrm{heads},\\mathrm{tails}\\}} \\!\\! P(X=x_i, Z=z \\mid \\theta)\\\\\n",
    "   = \\frac1N \\sum_{i=1}^N \\log \\left[ \\lambda \\cdot p_1^{h(x_i)} \\cdot (1-p_1)^{t(x_i)} + (1-\\lambda) \\cdot p_2^{h(x_i)} \\cdot (1-p_2)^{t(x_i)} \\right]\n",
    "$$\n",
    "where $h(x_i)$ and $t(x_i)$ denote the number of heads and tails in sample $i$, respectively. Note that we take the averaged log-likelihood over all trials, hence the multiplicative term $\\frac1N$ in front."
   ]
  },
  {
   "cell_type": "code",
   "execution_count": 2,
   "metadata": {},
   "outputs": [
    {
     "name": "stdout",
     "output_type": "stream",
     "text": [
      "-3.049581774834721\n"
     ]
    },
    {
     "data": {
      "text/plain": [
       "-3.049581774834721"
      ]
     },
     "execution_count": 2,
     "metadata": {},
     "output_type": "execute_result"
    }
   ],
   "source": [
    "import numpy as np\n",
    "import collections\n",
    "import scipy.special\n",
    "\n",
    "# http://karlrosaen.com/ml/notebooks/em-coin-flips/\n",
    "def loglikelihood(data,lam,p1,p2):\n",
    "    n_tosses = data.shape[0] # matrix height\n",
    "    m_tosses = data.shape[1] # each coin tossed M times\n",
    "    \n",
    "    #n_heads = np.sum(data, axis=1)\n",
    "    #n_tails = n_tosses - n_heads\n",
    "    \n",
    "    probs = numpy.zeros(n_tosses, dtype=numpy.float) # for keeping the data during the loop\n",
    "    #log_l = numpy.log(scipy.special.binom(m_tosses, n_heads)*(lam*pow(p1,n_heads)*pow(1-p1,n_tails) + (1-lam)*pow(p2,n_heads)*pow(1-p2,n_tails)))\n",
    "    \n",
    "    for i in range(0, n_tosses):\n",
    "        counter = collections.Counter(data[i,:]) # to track the number of  ones ans zeros\n",
    "        n_heads = counter[1]\n",
    "        n_tails = counter[0]\n",
    "        \n",
    "        probs[i] = np.log(lam*(p1**n_heads)*((1 - p1)**n_tails) + (1 - lam)*(p2**n_heads)*((1 - p2)**n_tails))\n",
    "        #print(probs[i])\n",
    "    \n",
    "    \n",
    "    log_l = np.sum(probs) / n_tosses\n",
    "    print(log_l)    \n",
    "    return log_l\n",
    "        \n",
    "loglikelihood(data, 0.5, 0.8,0.2)"
   ]
  },
  {
   "cell_type": "markdown",
   "metadata": {},
   "source": [
    "## Implementing and Running the EM Algorithm (35 P)\n",
    "\n",
    "Implement a function which iteratively determines the values of $\\lambda$, $p_1$ and $p_2$. The function starts with some initial estimates for the parameters and returns the results of the method for those parameters.\n",
    "\n",
    "In each iteration, the following update rules are used for the parameters:\n",
    "\n",
    "$$\\lambda^{new} = \\frac{E(\\#heads(coin\\_H))}{\\#throws(coin\\_H)} = \\frac{1}{N}\\sum_{i=1}^{N}\\frac{\\lambda p_1^{h(x_i)}(1-p_1)^{t(x_i)}}{\\lambda p_1^{h(x_i)}(1-p_1)^{t(x_i)} + (1-\\lambda)p_2^{h(x_i)}(1-p_2)^{t(x_i)}}$$\n",
    "\n",
    "$$p_1^{new} = \\frac{E(\\#heads(coin\\_A))}{E(\\#throws(coin\\_A))} = \\frac{\\sum_{i=1}^{N}R_1(i)h(x_i)}{M \\sum_{i=1}^{N}R_1(i)}$$\n",
    "\n",
    "$$p_2^{new} = \\frac{E(\\#heads(coin\\_B))}{E(\\#throws(coin\\_B))} = \\frac{\\sum_{i=1}^{N}R_2(i)h(x_i)}{M \\sum_{i=1}^{N}R_2(i)}$$\n",
    "\n",
    "where $h(x_i)$ and $t(x_i)$ denote the number of heads and tails in sample i, respectively, and\n",
    "\n",
    "$$R_1(i) = \\frac{\\lambda p_1^{h(x_i)}(1-p_1)^{t(x_i)}}{\\lambda p_1^{h(x_i)}(1-p_1)^{t(x_i)} + (1-\\lambda)p_2^{h(x_i)}(1-p_2)^{t(x_i)}}$$\n",
    "\n",
    "$$R_2(i) = \\frac{(1-\\lambda) p_2^{h(x_i)}(1-p_2)^{t(x_i)}}{\\lambda p_1^{h(x_i)}(1-p_1)^{t(x_i)} + (1-\\lambda)p_2^{h(x_i)}(1-p_2)^{t(x_i)}}$$\n",
    "\n",
    "\n",
    "**TODO:**\n",
    "\n",
    "* **Implement the EM learning procedure.**\n",
    "* **Use as stopping criterion the improvement of log-likelihood between two iterations to be smaller than $0.001$.**\n",
    "* **Run the EM procedure on the data returned by function `utils.unknownData()`. Use as an initial solution for your model the parameters $\\lambda = 0.5$, $p_1 = 0.25$, $p_2 = 0.75$ **.\n",
    "* **At each iteration of the EM procedure, print the log-likelihood and the value of your model parameters, and plot the learned probability distribution using the function utils.plot().**"
   ]
  },
  {
   "cell_type": "code",
   "execution_count": 16,
   "metadata": {},
   "outputs": [
    {
     "name": "stdout",
     "output_type": "stream",
     "text": [
      "-12.20123783807157\n"
     ]
    },
    {
     "data": {
      "image/png": "[encoded data removed]",
      "text/plain": [
       "<Figure size 504x360 with 2 Axes>"
      ]
     },
     "metadata": {
      "needs_background": "light"
     },
     "output_type": "display_data"
    }
   ],
   "source": [
    "import utils\n",
    "%matplotlib inline\n",
    "\n",
    "# --------------------\n",
    "# REPLACE BY YOUR CODE\n",
    "\n",
    "def compute_distribution(M, p1, p2):\n",
    "    hx = numpy.arange(M+1)\n",
    "    tx = M - hx\n",
    "    px = scipy.special.binom(M, hx)*(lam*pow(p1,hx)*pow(1-p1,tx) + (1-lam)*pow(p2,hx)*pow(1-p2,tx))\n",
    "    return px\n",
    "    \n",
    "# -------------------------------------------\n",
    "# Template for your code\n",
    "# -------------------------------------------\n",
    "#TODO: Initialize the model\n",
    "\n",
    "data = utils.unknownData()\n",
    "\n",
    "N = data.shape[0] # height n time tosses\n",
    "M = data.shape[1] # one coin was tossed m times\n",
    "\n",
    "lam = 0.5\n",
    "p1  = 0.25\n",
    "p2  = 0.75\n",
    "it = 0 # iteration index\n",
    "criterion = False # (to be set to True) \n",
    "criterion_num = 0.0001\n",
    "\n",
    "log_l = loglikelihood(data,lam,p1,p2) # Use as an initial solution the parameters l=0.5, p1=0.25, p2=0.75\n",
    "dist = compute_distribution(M, p1, p2)\n",
    "utils.plot(data, dist/np.sum(dist))\n",
    "\n",
    "# Iterate until the stopping criterion is satisfied\n",
    "while (criterion == False):\n",
    "\n",
    "    #TODO:\n",
    "    # - Perform one step of EM\n",
    "    # - Print the log-likelihood and the model parameters\n",
    "    # - Plot data histogram and the learned probability distribution\n",
    "    # - Determine if stopping criterion is satisfied\n",
    "\n",
    "    print('it:%2d  lambda: %.2f  p1: %.2f  p2: %.2f  log-likelihood: %.3f'%(it, lam, p1, p2))\n",
    "\n",
    "    #print('it:%2d  lambda: %.2f  p1: %.2f  p2: %.2f  log-likelihood: %.3f'%(it, lam, p1, p2, loglikelihood))\n",
    "# -------------------------------------------"
   ]
  },
  {
   "cell_type": "code",
   "execution_count": null,
   "metadata": {},
   "outputs": [],
   "source": []
  }
 ],
 "metadata": {
  "kernelspec": {
   "display_name": "Python 3",
   "language": "python",
   "name": "python3"
  },
  "language_info": {
   "codemirror_mode": {
    "name": "ipython",
    "version": 3
   },
   "file_extension": ".py",
   "mimetype": "text/x-python",
   "name": "python",
   "nbconvert_exporter": "python",
   "pygments_lexer": "ipython3",
   "version": "3.7.0"
  }
 },
 "nbformat": 4,
 "nbformat_minor": 1
}
