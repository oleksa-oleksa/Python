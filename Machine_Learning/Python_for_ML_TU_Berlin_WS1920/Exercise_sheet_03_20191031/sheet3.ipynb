{
 "cells": [
  {
   "cell_type": "markdown",
   "metadata": {},
   "source": [
    "## Before submitting\n",
    "1. Before you turn this problem in, make sure everything runs as expected. First, **restart the kernel** (in the menubar, select Kernel$\\rightarrow$Restart) and then **run all cells** (in the menubar, select Cell$\\rightarrow$Run All).\n",
    "\n",
    "2. Make sure that no assertions fail or exceptions occur, otherwise points will be subtracted.\n",
    "\n",
    "3. After you submit the notebook more tests will be run on your code. The fact that no assertions fail on your computer localy does not guarantee that you completed the exercise correctly.\n",
    "\n",
    "4. After a function has been tested you can assume that for the following cells a correct implementation is used.\n",
    "\n",
    "5. Please submit only the edited original `*.ipynb` file.\n",
    "\n",
    "6. Make sure you fill in any place that says `YOUR CODE HERE` or \"YOUR ANSWER HERE\". Edit only between `YOUR CODE HERE` and `END YOUR CODE`.\n",
    "\n",
    "7. Make sure to use Python 3, not Python 2.\n",
    "\n",
    "8. Only work on the exercises using Jupyter Notebook. While tools such as PyCharm and VSCode support the `ipynb` format, they overwrite crucial metadata, which break the autograder system.\n",
    "\n",
    "9. Do **NOT** under any circustances delete any cells that you didn't insert yourselves. If you accidentally delete a cell either undo the deletion using `Edit/Undo Delete Cells` or redownload the notebook file from ISIS and paste your existing code in there. \n",
    "\n",
    "\n",
    "Fill your group name and members below:"
   ]
  },
  {
   "cell_type": "code",
   "execution_count": 1,
   "metadata": {},
   "outputs": [],
   "source": [
    "GROUPNAME = \"Group 19\"\n",
    "COLLABORATORS = \"Oleksandra Baga, Sergej Kawersin\""
   ]
  },
  {
   "cell_type": "markdown",
   "metadata": {},
   "source": [
    "# Exercise Sheet 3: Sampling, Simulation"
   ]
  },
  {
   "cell_type": "markdown",
   "metadata": {},
   "source": [
    "In this exercise sheet, we will simulate a Markov chain. In the first part, we will consider a pure Python based implementation where a single particle jumps from one position to another of the lattice, where all transitions to neighboring states have the same probability. Then, we will add probabilities for the transitions. Finally, the implementation will be parallelized to run many chains in parallel.\n",
    "\n",
    "Keep in mind that you can get the documentation of modules and functions using the `help()` function."
   ]
  },
  {
   "cell_type": "code",
   "execution_count": 2,
   "metadata": {
    "deletable": false,
    "editable": false,
    "nbgrader": {
     "cell_type": "code",
     "checksum": "e4d2deba7c28da86dc6639d9bc0a8a95",
     "grade": false,
     "grade_id": "cell-4fad0ccdfaff95fb",
     "locked": true,
     "schema_version": 3,
     "solution": false,
     "task": false
    }
   },
   "outputs": [],
   "source": [
    "%matplotlib inline\n",
    "import random \n",
    "\n",
    "# For testing\n",
    "import unittest; t = unittest.TestCase()"
   ]
  },
  {
   "cell_type": "code",
   "execution_count": 3,
   "metadata": {
    "deletable": false,
    "editable": false,
    "nbgrader": {
     "cell_type": "code",
     "checksum": "dad0dedd8f3eb33c5670eba928a4fe8a",
     "grade": true,
     "grade_id": "cell-4d484b3190814b72",
     "locked": true,
     "points": 0,
     "schema_version": 3,
     "solution": false,
     "task": false
    }
   },
   "outputs": [
    {
     "data": {
      "text/plain": [
       "'\\nThis cell is for grading.DO NOT remove it\\n'"
      ]
     },
     "execution_count": 3,
     "metadata": {},
     "output_type": "execute_result"
    }
   ],
   "source": [
    "'''\n",
    "This cell is for grading.DO NOT remove it\n",
    "'''"
   ]
  },
  {
   "cell_type": "markdown",
   "metadata": {
    "collapsed": true
   },
   "source": [
    "## Exercise 1: Random moves in a lattice (20 P)\n",
    "\n",
    "In this exercise, we will simulate the propagation of particles in a graph composed of 8 states (denoted by letters A-H) and stored in the variable `S` defined in the cell below. The lattice is the following:\n",
    "\n",
    "![](lattice.png)\n",
    "\n",
    "The particle starts in state `A` and then jumps randomly from its current state to one of its neighbors, all with same probability. Note that it cannot stay at the current position. The dictionary `T` defined in the cell below encode such transition behavior."
   ]
  },
  {
   "cell_type": "code",
   "execution_count": 4,
   "metadata": {},
   "outputs": [
    {
     "name": "stdout",
     "output_type": "stream",
     "text": [
      "States: ['A', 'B', 'C', 'D', 'E', 'F', 'G', 'H']\n",
      "Transitions: {'A': 'BE', 'B': 'AFC', 'C': 'BGD', 'D': 'CH', 'E': 'AF', 'F': 'EBG', 'G': 'FCH', 'H': 'GD'}\n"
     ]
    }
   ],
   "source": [
    "# List of states\n",
    "S = list('ABCDEFGH')\n",
    "\n",
    "# Dictionary of transitions\n",
    "T = {'A': 'BE', 'B': 'AFC', 'C': 'BGD', 'D': 'CH', 'E': 'AF', 'F': 'EBG', 'G': 'FCH', 'H': 'GD'}\n",
    "print(\"States: {}\".format(S))\n",
    "print(\"Transitions: {}\".format(T))"
   ]
  },
  {
   "cell_type": "markdown",
   "metadata": {},
   "source": [
    "Using pure Python, set the initial state to `A` and run it for 1999 iterations. Return the sequence of states visited by the particle as a list. Set the random seed of the module `random` to value `123` using the function `random.seed` before starting the simulation in order to produce deterministic results."
   ]
  },
  {
   "cell_type": "code",
   "execution_count": 9,
   "metadata": {
    "deletable": false,
    "nbgrader": {
     "cell_type": "code",
     "checksum": "77a9d3a6ab2fa686359707d4afb00c17",
     "grade": false,
     "grade_id": "cell-be8591ff18527982",
     "locked": false,
     "schema_version": 3,
     "solution": true
    }
   },
   "outputs": [],
   "source": [
    "import numpy\n",
    "import random\n",
    "\n",
    "def simulate(transitions):\n",
    "    '''\n",
    "    Simulates a markov chain defined by the above transitions.\n",
    "    This function always sets the random seed to `123`. All simulations start with \n",
    "    initial state `A`. It always simulates 2000 steps including the initial state.\n",
    "    Args:\n",
    "        transitions (dict): A dictionary with eight keys [A-H]. For each key a string is \n",
    "        mapped as its value. Each of those strings can only contain the letters [A-H] each\n",
    "        letter can only appear once. `'A': 'BE'` means that from state `A` we can reach \n",
    "        the states `B` and `E` and no other state. \n",
    "    Returns:\n",
    "        list: A list of states (a string containing one of the letters [A-H]) \n",
    "        that were visited during the simulation.\n",
    "    '''\n",
    "    # YOUR CODE HERE\n",
    "    random.seed(123)\n",
    "    initial_state = S[0] # starting always with A\n",
    "    visited_states = [initial_state]\n",
    "    \n",
    "    for x in range(1, 2000): # initial_state included\n",
    "        next_state = random.choice(T[initial_state])\n",
    "        visited_states += next_state\n",
    "        initial_state = next_state    \n",
    "    return visited_states\n",
    "    # YOUR CODE HERE\n",
    "    \n",
    "    "
   ]
  },
  {
   "cell_type": "code",
   "execution_count": 10,
   "metadata": {
    "deletable": false,
    "editable": false,
    "nbgrader": {
     "cell_type": "code",
     "checksum": "8947de8ea2748abf1556a08926ac4f8c",
     "grade": true,
     "grade_id": "cell-e189a7a547cbdcbc",
     "locked": true,
     "points": 5,
     "schema_version": 3,
     "solution": false
    }
   },
   "outputs": [
    {
     "name": "stdout",
     "output_type": "stream",
     "text": [
      "['A', 'B', 'F', 'E', 'F', 'B', 'A', 'B', 'F', 'G']\n"
     ]
    }
   ],
   "source": [
    "# Tests\n",
    "X = simulate(T)\n",
    "\n",
    "# Print the first 10 states\n",
    "print(X[:10])\n",
    "t.assertIsInstance(X, list, 'The state sequence must be a list')\n",
    "t.assertIsInstance(X[0], str, 'The state sequence must only contain strings')\n",
    "t.assertEqual(X[0], 'A', 'The state sequence must start with A')\n",
    "t.assertTrue(all(x in 'ABCDEFGH' for x in X), 'Your state sequence containes an invalid state')\n",
    "t.assertEqual(len(X), 2000)"
   ]
  },
  {
   "cell_type": "code",
   "execution_count": null,
   "metadata": {
    "deletable": false,
    "editable": false,
    "nbgrader": {
     "cell_type": "code",
     "checksum": "bfb26d14feaaf8e45f1b0ee86923587d",
     "grade": true,
     "grade_id": "cell-5749c0c7ceef3507",
     "locked": true,
     "points": 0,
     "schema_version": 3,
     "solution": false,
     "task": false
    }
   },
   "outputs": [],
   "source": [
    "'''This cell is for grading. DO NOT remove it'''"
   ]
  },
  {
   "cell_type": "markdown",
   "metadata": {},
   "source": [
    "Implement a function that returns a list of the relative frequencies of each state."
   ]
  },
  {
   "cell_type": "code",
   "execution_count": 11,
   "metadata": {
    "deletable": false,
    "nbgrader": {
     "cell_type": "code",
     "checksum": "bf781ea2ede282290bd5016fb2d17895",
     "grade": false,
     "grade_id": "cell-d2abc424da288db8",
     "locked": false,
     "schema_version": 3,
     "solution": true
    }
   },
   "outputs": [],
   "source": [
    "import numpy as np\n",
    "def compute_histogram(state_sequence):\n",
    "    '''\n",
    "    Returns a list of percentages relating as to how many times each state has been visited\n",
    "    according to the `state_sequence` list\n",
    "    \n",
    "    Args:\n",
    "        state_sequence (list): A list of states\n",
    "    Returns:\n",
    "        list: A list of length 8. Contains the percentage `[0-1]` of occurances of each state\n",
    "        in the `state_sequence`. \n",
    "    '''\n",
    "    # YOUR CODE HERE\n",
    "    letters = [X.count(i) for i in S]\n",
    "    freq = [x/len(X) for x in letters]\n",
    "    return freq\n",
    "    # YOUR CODE HERE\n",
    "    "
   ]
  },
  {
   "cell_type": "code",
   "execution_count": 12,
   "metadata": {
    "deletable": false,
    "editable": false,
    "nbgrader": {
     "cell_type": "code",
     "checksum": "f55a4ce95d7bf520d1fdfe6a2c664450",
     "grade": true,
     "grade_id": "cell-a083af994b2e82c2",
     "locked": true,
     "points": 10,
     "schema_version": 3,
     "solution": false
    }
   },
   "outputs": [],
   "source": [
    "h = compute_histogram(X)\n",
    "t.assertIsInstance(h, list)\n",
    "# Check if the histogram is a valid probability distribution\n",
    "np.testing.assert_allclose(np.sum(h), 1.)\n"
   ]
  },
  {
   "cell_type": "code",
   "execution_count": 13,
   "metadata": {
    "deletable": false,
    "editable": false,
    "nbgrader": {
     "cell_type": "code",
     "checksum": "d4b961e2a762ed557e5c5d2b8650e67e",
     "grade": true,
     "grade_id": "cell-5c1b03dc60626965",
     "locked": true,
     "points": 0,
     "schema_version": 3,
     "solution": false,
     "task": false
    }
   },
   "outputs": [
    {
     "data": {
      "text/plain": [
       "'This cell is for grading.DO NOT remove it'"
      ]
     },
     "execution_count": 13,
     "metadata": {},
     "output_type": "execute_result"
    }
   ],
   "source": [
    "'''This cell is for grading.DO NOT remove it'''"
   ]
  },
  {
   "cell_type": "markdown",
   "metadata": {},
   "source": [
    "Using the above `compute_histogram` function, produce a bar plot using `matplotlib` (`matplotlib.pyplot.bar`) showing the fraction of the time the particle is found in a given state, averaged over the whole simulation. Do **not** call plt.show in the function (it is automatically called because of `%matplotlib inline`"
   ]
  },
  {
   "cell_type": "code",
   "execution_count": 16,
   "metadata": {
    "deletable": false,
    "nbgrader": {
     "cell_type": "code",
     "checksum": "42a39a98bb010d7c5dc710158d34a5c2",
     "grade": true,
     "grade_id": "cell-4e935488f89005fd",
     "locked": false,
     "points": 5,
     "schema_version": 3,
     "solution": true,
     "task": false
    }
   },
   "outputs": [],
   "source": [
    "import matplotlib.pyplot as plt\n",
    "def plot_histogram(histogram):\n",
    "    '''\n",
    "    Plots a bar graph of a provided histogram. \n",
    "    \n",
    "    Args:\n",
    "        histogram: A list of propabilites (values in `[0-1]`)\n",
    "    Returns: \n",
    "        None\n",
    "    '''\n",
    "    # YOUR CODE HERE\n",
    "    letters = [\"A\",\"B\",\"C\",\"D\",\"E\",\"F\",\"G\",\"H\"]\n",
    "    x = [1,2,3,4,5,6,7,8]\n",
    "    plt.xticks(x, letters)\n",
    "    plt.bar(x, histogram, color = 'green')\n",
    "    plt.grid(color='gray', linestyle='dotted')\n",
    "    plt.ylim([0,0.25])\n",
    "    # YOUR CODE HERE\n",
    "    "
   ]
  },
  {
   "cell_type": "code",
   "execution_count": 17,
   "metadata": {
    "deletable": false,
    "editable": false,
    "nbgrader": {
     "cell_type": "code",
     "checksum": "e1f118103ba64cb45e288143141c871e",
     "grade": true,
     "grade_id": "cell-8adc44a487ec126c",
     "locked": true,
     "points": 0,
     "schema_version": 3,
     "solution": false,
     "task": false
    }
   },
   "outputs": [
    {
     "data": {
      "image/png": "[encoded data removed]",
      "text/plain": [
       "<Figure size 432x288 with 1 Axes>"
      ]
     },
     "metadata": {
      "needs_background": "light"
     },
     "output_type": "display_data"
    }
   ],
   "source": [
    "# Plot the histogram of the above defined sequence X\n",
    "h = compute_histogram(X)\n",
    "plot_histogram(h)"
   ]
  },
  {
   "cell_type": "markdown",
   "metadata": {
    "collapsed": true
   },
   "source": [
    "## Exercise 2: Adding a special state (20 P)\n",
    "\n",
    "Suppose now that the rule (defined by the transition dictionary) is modified such that everytime the particle is in state `F`, it always moves to `E` in the next step.\n",
    "\n",
    "* Modify the code to handle this special case, and create a bar plot for the new states distribution. Make sure to not modify the original transition dictionary. To achieve this, you can have a look at the `copy` module, but every working solution is accepted."
   ]
  },
  {
   "cell_type": "code",
   "execution_count": null,
   "metadata": {
    "deletable": false,
    "nbgrader": {
     "cell_type": "code",
     "checksum": "7abce7514f600048437881d57d0cc6ff",
     "grade": false,
     "grade_id": "cell-b23ac9c3c7d18076",
     "locked": false,
     "schema_version": 3,
     "solution": true
    }
   },
   "outputs": [],
   "source": [
    "def modify_transitions(transitions):\n",
    "    '''\n",
    "    Creates a modified transition dictionary without modifing the provided one.\n",
    "    \n",
    "    This function creates a new transition dictionary such that from state `F` the only \n",
    "    possible following state is `E`.\n",
    "    \n",
    "    Args:\n",
    "        transitions (dict): A dictionary that describes the possible transitions from each state\n",
    "    Returns:\n",
    "        dict: A modified transition dict where from state `F` only state `E` can follow\n",
    "     '''\n",
    "    # YOUR CODE HERE\n",
    "    raise NotImplementedError(\"Relplace this line with your code\")\n",
    "    # YOUR CODE HERE\n",
    "    \n",
    "    "
   ]
  },
  {
   "cell_type": "code",
   "execution_count": null,
   "metadata": {
    "deletable": false,
    "editable": false,
    "nbgrader": {
     "cell_type": "code",
     "checksum": "f911c9cb1491ede23b597e4b1b676cb6",
     "grade": false,
     "grade_id": "cell-8034873fab5ed4dd",
     "locked": true,
     "schema_version": 3,
     "solution": false
    }
   },
   "outputs": [],
   "source": [
    "new_T = modify_transitions(T)\n",
    "new_X = simulate(new_T)\n",
    "h = compute_histogram(new_X)\n",
    "plot_histogram(h)"
   ]
  },
  {
   "cell_type": "code",
   "execution_count": null,
   "metadata": {
    "deletable": false,
    "editable": false,
    "nbgrader": {
     "cell_type": "code",
     "checksum": "e4dfeeed4cc4d4d43599f087fd31025a",
     "grade": true,
     "grade_id": "cell-4c8eda5748d2ac39",
     "locked": true,
     "points": 20,
     "schema_version": 3,
     "solution": false
    }
   },
   "outputs": [],
   "source": [
    "# Tests\n",
    "new_T = modify_transitions(T)\n",
    "print('T[\\'F\\'] = {}'.format(T['F']))\n",
    "print('new_T[\\'F\\'] = {}'.format(new_T['F']))\n",
    "t.assertIsInstance(new_T, dict)\n",
    "t.assertIsNot(T, new_T, 'T and new_T should not be the same instance')"
   ]
  },
  {
   "cell_type": "markdown",
   "metadata": {
    "deletable": false,
    "editable": false,
    "nbgrader": {
     "cell_type": "markdown",
     "checksum": "5de7add9887e2fc44d87961f7e5f2f2e",
     "grade": false,
     "grade_id": "cell-b22d058ecb8c0369",
     "locked": true,
     "schema_version": 3,
     "solution": false,
     "task": false
    }
   },
   "source": [
    "## Exercise 3: Exact solution to the previous exercise (20 P)\n",
    "\n",
    "For simple Markov chains, a number of statistics can be obtained analytically from the structure of the transition model, in particular, by analysis of the transition matrix.\n",
    "\n",
    "* Compute the transition matrices associated to the models of exercise 1 and 2 (make sure that each row in these matrices sums to 1).\n",
    "* Give the transition matrices as argument to the function `utils.getstationary(P)` and return their result.\n",
    "\n",
    "This last function computes in closed form the stationary distribution associated to a given transition matrix `P` (i.e. the one we would get if running the simulation with such transition matrix for infinitely many time steps and looking at state frequencies)."
   ]
  },
  {
   "cell_type": "code",
   "execution_count": null,
   "metadata": {
    "deletable": false,
    "nbgrader": {
     "cell_type": "code",
     "checksum": "511f0be2f66696da775f4d47313fbf99",
     "grade": false,
     "grade_id": "cell-e04eeaf399e5473f",
     "locked": false,
     "schema_version": 3,
     "solution": true
    }
   },
   "outputs": [],
   "source": [
    "def to_matrix(transition):\n",
    "    '''\n",
    "    Converts a transition dictionary into a transition matrix. The first row represents\n",
    "    the propability of moving from the first state to every state.\n",
    "    \n",
    "    If the state dict is irreflexive (we cannot go from one state to the same state) \n",
    "    the sum of the diagonal is 0. \n",
    "    \n",
    "    The sum of each row should be 1.\n",
    "    \n",
    "    All the elements in the matrix are values in [0-1].\n",
    "    \n",
    "    Args:\n",
    "        transition (dict): A dictionary describing the possible transitions from each state.\n",
    "        \n",
    "    Returns:\n",
    "        np.ndarray: The transition matrix (ndim=2) that represents the same (uniform) transitions as the \n",
    "        transition dict\n",
    "    '''\n",
    "    # YOUR CODE HERE\n",
    "    raise NotImplementedError(\"Relplace this line with your code\")\n",
    "    # YOUR CODE HERE\n",
    "    \n",
    "    "
   ]
  },
  {
   "cell_type": "code",
   "execution_count": null,
   "metadata": {
    "deletable": false,
    "editable": false,
    "nbgrader": {
     "cell_type": "code",
     "checksum": "fd584e33e9363410c5ca0fe2fe8fdf0c",
     "grade": true,
     "grade_id": "cell-c56cbb51974a1435",
     "locked": true,
     "points": 15,
     "schema_version": 3,
     "solution": false
    }
   },
   "outputs": [],
   "source": [
    "'''\n",
    "Test `to_matrix`\n",
    "Do not delete this cell or your submission will fail\n",
    "'''\n",
    "matrix_T = to_matrix(T)\n",
    "print(np.round(matrix_T, 2))\n",
    "\n",
    "t.assertIsInstance(matrix_T, np.ndarray)\n",
    "np.testing.assert_allclose(np.sum(matrix_T, axis=1), 1.0)\n"
   ]
  },
  {
   "cell_type": "code",
   "execution_count": null,
   "metadata": {
    "deletable": false,
    "editable": false,
    "nbgrader": {
     "cell_type": "code",
     "checksum": "da37caffc07e412ea9f6eba5761e58b8",
     "grade": true,
     "grade_id": "cell-b7872f409809f378",
     "locked": true,
     "points": 0,
     "schema_version": 3,
     "solution": false,
     "task": false
    }
   },
   "outputs": [],
   "source": [
    "'''This cell is for grading. DO NOT remove it'''"
   ]
  },
  {
   "cell_type": "code",
   "execution_count": null,
   "metadata": {
    "deletable": false,
    "nbgrader": {
     "cell_type": "code",
     "checksum": "0d75ad5c6271d191d43259f0093f76c2",
     "grade": false,
     "grade_id": "cell-16d4205430adc58c",
     "locked": false,
     "schema_version": 3,
     "solution": true
    }
   },
   "outputs": [],
   "source": [
    "import utils\n",
    "\n",
    "def get_stationary(matrix):\n",
    "    '''\n",
    "    Wrapper function for `utils.getstationary`\n",
    "    \n",
    "    Args:\n",
    "        matrix (np.ndarray): Transition matrix (ndim=2)\n",
    "    Returns:\n",
    "        np.ndarray: Stationary distribution vector (ndim=1) of `matrix`.\n",
    "    '''\n",
    "    # YOUR CODE HERE\n",
    "    raise NotImplementedError(\"Relplace this line with your code\")\n",
    "    # YOUR CODE HERE\n",
    "    "
   ]
  },
  {
   "cell_type": "code",
   "execution_count": null,
   "metadata": {
    "deletable": false,
    "editable": false,
    "nbgrader": {
     "cell_type": "code",
     "checksum": "a776af4e7430079a0e470e12e0d82d53",
     "grade": true,
     "grade_id": "cell-269b5f3f15a5f64d",
     "locked": true,
     "points": 5,
     "schema_version": 3,
     "solution": false,
     "task": false
    }
   },
   "outputs": [],
   "source": [
    "s = get_stationary(matrix_T)\n",
    "print(s.round(3))\n",
    "np.testing.assert_allclose(s.sum(), 1)"
   ]
  },
  {
   "cell_type": "code",
   "execution_count": null,
   "metadata": {
    "deletable": false,
    "editable": false,
    "nbgrader": {
     "cell_type": "code",
     "checksum": "037b573596206bc7c53c9804ab151e6f",
     "grade": true,
     "grade_id": "cell-c1ee593c8d0e538b",
     "locked": true,
     "points": 0,
     "schema_version": 3,
     "solution": false,
     "task": false
    }
   },
   "outputs": [],
   "source": [
    "'''This cell is for grading. DO NOT remove it'''"
   ]
  },
  {
   "cell_type": "markdown",
   "metadata": {},
   "source": [
    "## Exercise 4: Adding non-uniform transition probabilities (20 P)\n",
    "\n",
    "We consider the original lattice defined by the variable `T`. We set transition probabilities for each state to be such that:\n",
    "\n",
    "1. The probability of moving vertically is the same as the probability of moving horizontally for states that have only two connections.\n",
    "2. For states with 3 connections the probability of moving vertically is 0.5 while the probability of moving left is always twice the probability of moving right.\n",
    "\n",
    "**Hints**: You can notice that for each state, the transitions towards other states are always listed from left to right in the dictionary `T`. Also note that characters A-H can be mapped to integer values using the Python function `ord()`, thus, giving a direct relation between state names and indices of the transition matrix."
   ]
  },
  {
   "cell_type": "markdown",
   "metadata": {
    "deletable": false,
    "editable": false,
    "nbgrader": {
     "cell_type": "markdown",
     "checksum": "7eeffb4df87b38309f7134ffa3cfd255",
     "grade": false,
     "grade_id": "cell-a8a5c4311d24c353",
     "locked": true,
     "schema_version": 3,
     "solution": false,
     "task": false
    }
   },
   "source": [
    "**a)** Build a function that converts the string state into a numeric index"
   ]
  },
  {
   "cell_type": "code",
   "execution_count": null,
   "metadata": {
    "deletable": false,
    "nbgrader": {
     "cell_type": "code",
     "checksum": "ec7d738ce615a52417103aed60f3d2fe",
     "grade": false,
     "grade_id": "cell-ed06d04f24b9db06",
     "locked": false,
     "schema_version": 3,
     "solution": true,
     "task": false
    }
   },
   "outputs": [],
   "source": [
    "def state_string_to_index(state):\n",
    "    '''\n",
    "    Converts the state string into a numerical index, where:\n",
    "    'A' -> 0\n",
    "    'B' -> 1\n",
    "    ...\n",
    "    'H' -> 7\n",
    "    \n",
    "    Args:\n",
    "        state (string): A state string in [A-H] with len(state)=1\n",
    "    Returns:\n",
    "        int: The index of the state in [0-7]\n",
    "    '''\n",
    "    # YOUR CODE HERE\n",
    "    raise NotImplementedError(\"Relplace this line with your code\")\n",
    "    # YOUR CODE HERE\n",
    "    "
   ]
  },
  {
   "cell_type": "code",
   "execution_count": null,
   "metadata": {
    "deletable": false,
    "editable": false,
    "nbgrader": {
     "cell_type": "code",
     "checksum": "277e4c89675dc925b50e3f8428cb5a0d",
     "grade": true,
     "grade_id": "cell-d5a69e2ff33dde8a",
     "locked": true,
     "points": 5,
     "schema_version": 3,
     "solution": false,
     "task": false
    }
   },
   "outputs": [],
   "source": [
    "# Test state_string_to_index\n",
    "A_idx = state_string_to_index('A')\n",
    "t.assertNotIsInstance(A_idx, float)\n",
    "t.assertEqual(A_idx, 0)"
   ]
  },
  {
   "cell_type": "code",
   "execution_count": null,
   "metadata": {
    "deletable": false,
    "editable": false,
    "nbgrader": {
     "cell_type": "code",
     "checksum": "762eebff7b601e0f85dbd5c5d11ba00d",
     "grade": true,
     "grade_id": "cell-f8a4376a239ee7e1",
     "locked": true,
     "points": 0,
     "schema_version": 3,
     "solution": false,
     "task": false
    }
   },
   "outputs": [],
   "source": [
    "'''This cell is for grading. DO NOT remove it'''"
   ]
  },
  {
   "cell_type": "markdown",
   "metadata": {},
   "source": [
    "**b**) Now implement the `build_transition_matrix` according to the rules defined above."
   ]
  },
  {
   "cell_type": "code",
   "execution_count": null,
   "metadata": {
    "deletable": false,
    "nbgrader": {
     "cell_type": "code",
     "checksum": "5929ccd18c4a9b663544e5b7a9873557",
     "grade": false,
     "grade_id": "cell-1560bb06a55de020",
     "locked": false,
     "schema_version": 3,
     "solution": true
    }
   },
   "outputs": [],
   "source": [
    "def build_transition_matrix(transition):\n",
    "    '''\n",
    "    Builds a transition matrix from a transition dictionary, similarly to\n",
    "    `to_matrix` function. However, this function does not create a uniform distribution\n",
    "    among the following states. \n",
    "    If the the next valid states are two then the distribution is uniform.\n",
    "    If the the next valid states are three, then moving vertically should have a \n",
    "    50% chance and moving left twice as much as moving right. \n",
    "    \n",
    "    Like in the `to_matrix` function the sum of each row should be 1.\n",
    "    \n",
    "    Args:\n",
    "        transition (dict) A dictionary describing the possible transitions from each state.\n",
    "    Returns:\n",
    "        np.ndarray: A transition matrix\n",
    "    \n",
    "    '''\n",
    "    # YOUR CODE HERE\n",
    "    raise NotImplementedError(\"Relplace this line with your code\")\n",
    "    # YOUR CODE HERE\n",
    "    \n"
   ]
  },
  {
   "cell_type": "code",
   "execution_count": null,
   "metadata": {
    "deletable": false,
    "editable": false,
    "nbgrader": {
     "cell_type": "code",
     "checksum": "3d452b55d1a35937cac61a8e109d2bc5",
     "grade": true,
     "grade_id": "cell-cceb43e3ed998bfe",
     "locked": true,
     "points": 15,
     "schema_version": 3,
     "solution": false
    }
   },
   "outputs": [],
   "source": [
    "# Test build_transition_matrix\n",
    "P = build_transition_matrix(T)\n",
    "print(P.round(2))\n",
    "\n",
    "t.assertIsInstance(P, np.ndarray)\n",
    "np.testing.assert_allclose(P.sum(axis=1), 1.0)"
   ]
  },
  {
   "cell_type": "code",
   "execution_count": null,
   "metadata": {
    "deletable": false,
    "editable": false,
    "nbgrader": {
     "cell_type": "code",
     "checksum": "1d7da248e2d5834b8d3449948bcace70",
     "grade": true,
     "grade_id": "cell-f8d9ce6430c2dbb4",
     "locked": true,
     "points": 0,
     "schema_version": 3,
     "solution": false,
     "task": false
    }
   },
   "outputs": [],
   "source": [
    "'''This cell is for grading. DO NOT remove it'''"
   ]
  },
  {
   "cell_type": "markdown",
   "metadata": {},
   "source": [
    "## Exercise 5: Simulation for multiple particles (20 P)\n",
    "\n",
    "We let 1000 particles evolve simultaneously in the system described in Exercise 4. The initial state of these particles is pseudo-random and given by the function `utils.getinitialstate()`.\n",
    "\n",
    "* Using the function `utils.mcstep()` that was introduced during the lecture, simulate this system for 500 time steps.\n",
    "* Estimate the stationary distribution by looking at the distribution of these particles in state space after 500 time steps.\n",
    "\n",
    "For reproducibility, give seed values to the function utils.mcstep corresponding to the current time step of the simulation (i.e. from 0 to 499)."
   ]
  },
  {
   "cell_type": "code",
   "execution_count": null,
   "metadata": {
    "deletable": false,
    "nbgrader": {
     "cell_type": "code",
     "checksum": "cf2f3ad2679facc1f05f49594b8a0fb6",
     "grade": false,
     "grade_id": "cell-2af098b516309a41",
     "locked": false,
     "schema_version": 3,
     "solution": true
    }
   },
   "outputs": [],
   "source": [
    "import utils\n",
    "\n",
    "def simulate_1000(transition):\n",
    "    '''\n",
    "    Simulates 1000 particles for 500 time steps, in order to approximate\n",
    "    the stationary distribution\n",
    "    \n",
    "    Args:\n",
    "        transition: A transition dict, that will be converted into a transition matrix using the \n",
    "        `build_transition_matrix` function\n",
    "    Returns:\n",
    "        np.ndarray: The estimated stationary distribution vector (ndim=1)\n",
    "    \n",
    "    '''\n",
    "    # YOUR CODE HERE\n",
    "    raise NotImplementedError(\"Relplace this line with your code\")\n",
    "    # YOUR CODE HERE\n",
    "    "
   ]
  },
  {
   "cell_type": "code",
   "execution_count": null,
   "metadata": {
    "deletable": false,
    "editable": false,
    "nbgrader": {
     "cell_type": "code",
     "checksum": "d781147be9cd3633ec34cc422fbfea43",
     "grade": true,
     "grade_id": "cell-621b6e15bfc77266",
     "locked": true,
     "points": 20,
     "schema_version": 3,
     "solution": false
    }
   },
   "outputs": [],
   "source": [
    "# Tests\n",
    "stationary_distribution = simulate_1000(T)\n",
    "print(stationary_distribution)\n",
    "t.assertIsInstance(stationary_distribution, np.ndarray)\n",
    "np.testing.assert_allclose(np.sum(stationary_distribution), 1) "
   ]
  }
 ],
 "metadata": {
  "kernelspec": {
   "display_name": "Python 3",
   "language": "python",
   "name": "python3"
  },
  "language_info": {
   "codemirror_mode": {
    "name": "ipython",
    "version": 3
   },
   "file_extension": ".py",
   "mimetype": "text/x-python",
   "name": "python",
   "nbconvert_exporter": "python",
   "pygments_lexer": "ipython3",
   "version": "3.7.0"
  }
 },
 "nbformat": 4,
 "nbformat_minor": 1
}
