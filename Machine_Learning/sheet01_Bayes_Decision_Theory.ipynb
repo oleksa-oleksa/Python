{
 "metadata": {
  "kernelspec": {
   "display_name": "Python 2",
   "language": "python",
   "name": "python2"
  },
  "language_info": {
   "codemirror_mode": {
    "name": "ipython",
    "version": 2
   },
   "file_extension": ".py",
   "mimetype": "text/x-python",
   "name": "python",
   "nbconvert_exporter": "python",
   "pygments_lexer": "ipython2",
   "version": "2.7.6"
  },
  "name": "",
  "signature": "sha256:a0bd8971aa11f5dcbe46d265ec574e1a37f3f90878c467e37488d0c44cf70a99"
 },
 "nbformat": 3,
 "nbformat_minor": 0,
 "worksheets": [
  {
   "cells": [
    {
     "cell_type": "markdown",
     "metadata": {},
     "source": [
      "# Programming Sheet 1: Bayes Decision Theory (40 P)\n",
      "\n",
      "In this exercise sheet, we will apply Bayes decision theory in the context of small two-dimensional problems. For this, we will make use of 3D plotting. We introduce below the basics for constructing these plots in Python/Matplotlib.\n",
      "\n",
      "### The function `numpy.meshgrid`\n",
      "\n",
      "To plot two-dimensional functions, we first need to discretize the two-dimensional input space. One basic function for this purpose is `numpy.meshgrid`. The following code creates a discrete grid of the rectangular surface $[0,4] \\times [0,3]$. The function `numpy.meshgrid` takes the discretized intervals as input, and returns two arrays of size corresponding to the discretized surface (i.e. the grid) and containing the X and Y-coordinates respectively."
     ]
    },
    {
     "cell_type": "code",
     "collapsed": false,
     "input": [
      "import numpy as np\n",
      "X,Y = np.meshgrid([0,1,2,3,4],[0,1,2,3])\n",
      "print(X)\n",
      "print(Y)"
     ],
     "language": "python",
     "metadata": {},
     "outputs": []
    },
    {
     "cell_type": "markdown",
     "metadata": {},
     "source": [
      "Note that we can iterate over the elements of the grid by zipping the two arrays `X` and `Y` containing each coordinate. The function `numpy.flatten` converts the 2D arrays to one-dimensional arrays, that can then be iterated element-wise."
     ]
    },
    {
     "cell_type": "code",
     "collapsed": false,
     "input": [
      "print(list(zip(X.flatten(),Y.flatten())))"
     ],
     "language": "python",
     "metadata": {},
     "outputs": []
    },
    {
     "cell_type": "markdown",
     "metadata": {},
     "source": [
      "### 3D-Plotting\n",
      "\n",
      "To enable 3D-plotting, we first need to load some modules in addition to `matplotlib`:"
     ]
    },
    {
     "cell_type": "code",
     "collapsed": true,
     "input": [
      "import matplotlib\n",
      "%matplotlib inline\n",
      "from matplotlib import pyplot as plt\n",
      "from mpl_toolkits.mplot3d import Axes3D"
     ],
     "language": "python",
     "metadata": {},
     "outputs": []
    },
    {
     "cell_type": "markdown",
     "metadata": {},
     "source": [
      "As an example, we would like to plot the L2-norm function $f(x,y) = \\sqrt{x^2 + y^2}$ on the subspace $x,y \\in [-4,4]$. First, we create a meshgrid with appropriate size:"
     ]
    },
    {
     "cell_type": "code",
     "collapsed": false,
     "input": [
      "R = np.arange(-4,4+1e-9,0.1)\n",
      "X,Y = np.meshgrid(R,R)\n",
      "print(X.shape,Y.shape)"
     ],
     "language": "python",
     "metadata": {},
     "outputs": []
    },
    {
     "cell_type": "markdown",
     "metadata": {},
     "source": [
      "Here, we have used a discretization with small increments of 0.1 in order to produce a plot with better resolution. The resulting meshgrid has size (81x81), that is, approximately 6400 points. The function $f$ needs to be evaluated at each of these points. This is achieved by applying element-wise operations on the arrays of the meshgrid. The norm at each point of the grid is therefore computed as:"
     ]
    },
    {
     "cell_type": "code",
     "collapsed": false,
     "input": [
      "F = (X**2+Y**2)**.5\n",
      "print(F.shape)"
     ],
     "language": "python",
     "metadata": {},
     "outputs": []
    },
    {
     "cell_type": "markdown",
     "metadata": {},
     "source": [
      "The resulting function values are of same size as the meshgrid. Taking `X`,`Y`,`F` jointly results in a list of approximately 6400 triplets representing the x-, y-, and z-coordinates in the three-dimensional space where the function should be plotted. The 3d-plot can now be constructed easily by means of the function `scatter` of `matplotlib.pyplot`."
     ]
    },
    {
     "cell_type": "code",
     "collapsed": false,
     "input": [
      "fig = plt.figure(figsize=(10,6))\n",
      "ax = plt.axes(projection='3d')\n",
      "ax.scatter(X,Y,F,s=1,alpha=0.5)"
     ],
     "language": "python",
     "metadata": {},
     "outputs": []
    },
    {
     "cell_type": "markdown",
     "metadata": {},
     "source": [
      "The parameter `s` and `alpha` control the size and the transparency of each data point. Other 3d plotting variants exist (e.g. surface plots), however, the scatter plot is the simplest approach at least conceptually. Having introduced how to easily plot 3D functions in Python, we can now analyze two-dimensional probability distributions with this same tool."
     ]
    },
    {
     "cell_type": "markdown",
     "metadata": {},
     "source": [
      "## Exercise 1: Gaussian distributions (5+5+5 P)\n",
      "\n",
      "Using the technique introduced above, we would like to plot a normal Gaussian probability distribution with mean vector $\\mu = (0,0)$, and covariance matrix $\\Sigma = I$ also known as standard normal distribution. We consider the same discretization as above (i.e. a grid from -4 to 4 using step size 0.1). For two-dimensional input spaces, the standard normal distribution is given by:\n",
      "$$\n",
      "p(x,y) = \\frac{1}{2\\pi}e^{-0.5 (x^2+y^2)}.\n",
      "$$\n",
      "This distribution sums to $1$ when integrated over $\\mathbb{R}^2$. However, it does not sum to $1$ when summing over the discretized space (i.e. the grid). Instead, we can work with a discretized Gaussian-like distribution:\n",
      "$$\n",
      "P(x,y) = \\frac1Z e^{-0.5 (x^2+y^2)} \\qquad \\text{with} \\quad Z = \\sum_{x,y} e^{-0.5 (x^2+y^2)}\n",
      "$$\n",
      "where the sum runs over the whole discretized space.\n",
      "\n",
      "* **Compute the distribution $P(x,y)$, and plot it.**\n",
      "* **Compute the conditional distribution $Q(x,y) = P((x,y) | \\sqrt{x^2+y^2} \\geq 1)$, and plot it.**\n",
      "* **Marginalize the conditioned distribution $Q(x,y)$ over $y$, and plot the resulting distribution $Q(x)$.**"
     ]
    },
    {
     "cell_type": "code",
     "collapsed": false,
     "input": [
      "### REPLACE BY YOUR CODE\n",
      "import solutions\n",
      "solutions.s1a()\n",
      "###"
     ],
     "language": "python",
     "metadata": {},
     "outputs": []
    },
    {
     "cell_type": "code",
     "collapsed": false,
     "input": [
      "### REPLACE BY YOUR CODE\n",
      "import solutions\n",
      "solutions.s1b()\n",
      "###"
     ],
     "language": "python",
     "metadata": {},
     "outputs": []
    },
    {
     "cell_type": "code",
     "collapsed": false,
     "input": [
      "### REPLACE BY YOUR CODE\n",
      "import solutions\n",
      "solutions.s1c()\n",
      "###"
     ],
     "language": "python",
     "metadata": {},
     "outputs": []
    },
    {
     "cell_type": "markdown",
     "metadata": {},
     "source": [
      "## Exercise 2: Bayesian Classification (5+5+5 P)\n",
      "\n",
      "Let the two coordinates x and y be now representated as a two-dimensional vector $\\boldsymbol{x}$. We consider two classes $\\omega_1$ and $\\omega_2$ with data-generating Gaussian distributions $p(\\boldsymbol{x}|\\omega_1)$ and $p(\\boldsymbol{x}|\\omega_2)$ of mean vectors\n",
      "$$\\boldsymbol{\\mu}_1 = (-0.5,-0.5) \\quad \\text{and} \\quad \\boldsymbol{\\mu}_2 = (0.5,0.5)$$\n",
      "respectively, and same covariance matrix\n",
      "$$\\Sigma = \\begin{pmatrix}1.0&0\\\\0&0.5\\end{pmatrix}.$$\n",
      "Classes occur with probability $P(\\omega_1) = 0.9$ and $P(\\omega_2) = 0.1$. Analysis tells us that in such scenario, the optimal decision boundary between the two classes should be linear. We would like to verify this computationally by applying Bayes decision theory on grid-like discretized distributions.\n",
      "\n",
      "* ** Using the same grid as in Exercise 1, discretize the two data-generating distributions $p(\\boldsymbol{x}|\\omega_1)$ and $p(\\boldsymbol{x}|\\omega_2)$ (i.e. create discrete distributions $P(\\boldsymbol{x}|\\omega_1)$ and $P(\\boldsymbol{x}|\\omega_2)$ on the grid), and plot them with different colors.**\n",
      "* **From these distributions, compute the total probability distribution $P(\\boldsymbol{x}) = \\sum_{c \\in \\{1,2\\}} P(\\boldsymbol{x} | \\omega_c) \\cdot P(\\omega_c)$, and plot it.**\n",
      "* **Compute and plot the class posterior probabilities $P(\\omega_1|\\boldsymbol{x})$ and $P(\\omega_2|\\boldsymbol{x})$, and print the Bayes error rate for the discretized case.**"
     ]
    },
    {
     "cell_type": "code",
     "collapsed": false,
     "input": [
      "### REPLACE BY YOUR CODE\n",
      "import solutions\n",
      "solutions.s2a()\n",
      "###"
     ],
     "language": "python",
     "metadata": {
      "scrolled": true
     },
     "outputs": []
    },
    {
     "cell_type": "code",
     "collapsed": false,
     "input": [
      "### REPLACE BY YOUR CODE\n",
      "import solutions\n",
      "solutions.s2b()\n",
      "###"
     ],
     "language": "python",
     "metadata": {},
     "outputs": []
    },
    {
     "cell_type": "code",
     "collapsed": false,
     "input": [
      "### REPLACE BY YOUR CODE\n",
      "import solutions\n",
      "solutions.s2c()\n",
      "###"
     ],
     "language": "python",
     "metadata": {},
     "outputs": []
    },
    {
     "cell_type": "markdown",
     "metadata": {},
     "source": [
      "## Exercise 3: Reducing the Variance (5+5 P)\n",
      "\n",
      "Suppose that the data generating distribution for the second class changes to produce samples much closer to the mean. This variance reduction for the second class is implemented by keeping the first covariance the same (i.e. $\\Sigma_1 = \\Sigma$) and dividing the second covariance matrix by 4 (i.e. $\\Sigma_2 = \\Sigma/4$). For this new set of parameters, we can perform the same analysis as in Exercise 2.\n",
      "\n",
      "* **Plot the new class posterior probabilities $P(\\omega_1|\\boldsymbol{x})$ and $P(\\omega_2|\\boldsymbol{x})$ associated to the new covariance matrices, and print the new Bayes error rate.**"
     ]
    },
    {
     "cell_type": "code",
     "collapsed": false,
     "input": [
      "### REPLACE BY YOUR CODE\n",
      "import solutions\n",
      "solutions.s3a()\n",
      "###"
     ],
     "language": "python",
     "metadata": {},
     "outputs": []
    },
    {
     "cell_type": "markdown",
     "metadata": {},
     "source": [
      "Intuition tells us that by variance reduction and resulting concentration of generated data for class 2 in a smaller region of the input space, it should be easier to predict class 2 with certainty at this location. Paradoxally, in this new \"dense\" setting, we observe that class 2 does not reach full certainty anywhere in the input space, whereas it did in the previous exercise.\n",
      "\n",
      "* **Explain this paradox.**"
     ]
    },
    {
     "cell_type": "markdown",
     "metadata": {},
     "source": [
      "[YOUR EXPLANATION HERE]"
     ]
    }
   ],
   "metadata": {}
  }
 ]
}