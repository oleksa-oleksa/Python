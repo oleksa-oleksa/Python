{
 "cells": [
  {
   "cell_type": "markdown",
   "metadata": {},
   "source": [
    "# Gaussian Processes\n",
    "\n",
    "In this exercise, you will implement Gaussian process regression and apply it to a toy and a real dataset. We use the notation used in the paper \"Rasmussen (2005). Gaussian Processes in Machine Learning\" linked on ISIS.\n",
    "\n",
    "Let us first draw a training set $X = (x_1,\\dots,x_n)$ and a test set $X_\\star = (x^\\star_1,\\dots,x^\\star_m)$ from a $d$-dimensional input distribution. The Gaussian Process is a model under which the real-valued outputs $\\mathbf{f} = (f_1,\\dots,f_n)$ and $\\mathbf{f}_\\star = (f^\\star_1,\\dots,f^\\star_m)$ associated to $X$ and $X_\\star$ follow the Gaussian distribution:\n",
    "\n",
    "\\begin{equation*}\n",
    "\\left[\n",
    "\\begin{array}{c}\\mathbf{f}\\\\\n",
    "\\mathbf{f}_\\star\\end{array}\n",
    "\\right]\n",
    "\\sim\n",
    "\\mathcal{N}\n",
    "\\left(\n",
    "\\left[\n",
    "\\begin{array}{c}\n",
    "\\boldsymbol{0}\\\\\n",
    "\\boldsymbol{0}\n",
    "\\end{array}\n",
    "\\right]\n",
    ",\n",
    "\\left[\n",
    "\\begin{array}{cc}\n",
    "\\Sigma & \\Sigma_\\star\\\\\n",
    "\\Sigma_\\star^\\top & \\Sigma_{\\star\\star}\n",
    "\\end{array}\n",
    "\\right]\n",
    "\\right)\n",
    "\\end{equation*}\n",
    "\n",
    "where\n",
    "\n",
    "\\begin{align*}\n",
    "\\Sigma &= k(X,X)+\\sigma^2 I\\\\\n",
    "\\Sigma_\\star &= k(X,X_\\star)\\\\\n",
    "\\Sigma_{\\star\\star} &= k(X_\\star,X_\\star)+\\sigma^2 I\n",
    "\\end{align*}\n",
    "\n",
    "and where $k(\\cdot,\\cdot)$ is the Gaussian kernel function. (The kernel function is implemented in `utils.py`.) Predicting the output for new data points $X_\\star$ is achieved by conditioning the joint probability distribution on the training set. Such conditional distribution called posterior distribution can be written as:\n",
    "\n",
    "\\begin{equation}\n",
    "\\mathbf{f}_\\star | \\mathbf{f} \\sim \\mathcal{N} (\n",
    "\\underbrace{\\Sigma_\\star^\\top \\Sigma^{-1} \\mathbf{f}}_{\\boldsymbol{\\mu}_\\star}\n",
    "~,~\n",
    "\\underbrace{\\Sigma_{\\star\\star} - \\Sigma_\\star^\\top \\Sigma^{-1} \\Sigma_\\star}_{C_\\star}\n",
    ")\n",
    "\\end{equation}\n",
    "\n",
    "Having inferred the posterior distribution, the log-likelihood of observing for the inputs $X_\\star$ the outputs $\\mathbf{y}_\\star$ is given by evaluating the distribution $\\mathbf{f}_\\star | \\mathbf{f}$ at $\\mathbf{y}_\\star$:\n",
    "\n",
    "\\begin{equation}\n",
    "\\log p(\\mathbf{y}_\\star | \\mathbf{f}) = -\\frac1{2} (\\mathbf{y}_\\star - \\boldsymbol{\\mu}_\\star)^\\top C^{-1}_\\star (\\mathbf{y}_\\star - \\boldsymbol{\\mu}_\\star) - \\frac1{2}\\log|C_\\star| - \\frac{m}{2}\\log2\\pi\n",
    "\\end{equation}\n",
    "\n",
    "where $|\\cdot|$ is the determinant. Note that the likelihood of the data given this posterior distribution can be measured both for the training data and the test data."
   ]
  },
  {
   "cell_type": "markdown",
   "metadata": {},
   "source": [
    "## Part 1: Implementing a Gaussian Process (20 P)\n",
    "\n",
    "**Tasks:**\n",
    "\n",
    "* **Create a class `GP_Regressor` that implements a Gaussian process regressor and has the following three methods:**\n",
    "\n",
    " * **`def __init__(self,Xtrain,Ytrain,width,noise):`** Initialize a Gaussian process with noise parameter $\\sigma$ and width parameter $w$. The function must also precompute the matrix $\\Sigma^{-1}$ for subsequent use by the method `predict()` and `loglikelihood()`.\n",
    "\n",
    " * **`def predict(self,Xtest):`** For the test set $X_\\star$ of $m$ points received as parameter, return the mean vector of size $m$ and covariance matrix of size $m \\times m$ of the corresponding output, that is, return the parameters $(\\boldsymbol{\\mu}_\\star,C_\\star)$ of the Gaussian distribution $\\mathbf{f}_\\star | \\mathbf{f}$.\n",
    "\n",
    " * **`def loglikelihood(self,Xtest,Ytest):`** For a data set $X_\\star$ of $m$ test points received as first parameter, return the loglikelihood of observing the outputs $\\mathbf{y}_\\star$ received as second parameter."
   ]
  },
  {
   "cell_type": "code",
   "execution_count": 3,
   "metadata": {},
   "outputs": [],
   "source": [
    "import utils\n",
    "import numpy as np\n",
    "\n",
    "# --------------------------\n",
    "# TODO: Replace by your code\n",
    "# --------------------------\n",
    "\"\"\"\n",
    "https://towardsdatascience.com/understanding-gaussian-process-the-socratic-way-ba02369d804\n",
    "X is the set of locations that we have in our training data. X is a vector of length n\n",
    "\n",
    "X_* the set of test locations where we want to evaluate our underlying function f. \n",
    "Remember the goal of this regression task is to find f so we can get its values at test locations.\n",
    "\n",
    "We need a way to describe the dependency relationships among random variables. \n",
    "In Gaussian Process, we use the multivariate Gaussian distribution over these random variables \n",
    "to describe the means of those random variables and how they are correlated. \n",
    "A multivariate Gaussian distribution is specified by a mean vector and a covariance matrix\n",
    "\n",
    "The function k appearing in the covariance matrix. We call k a kernel function. \n",
    "We use k to define the covariance between every two random variables f(x) and f(x′) at location x and x′. \n",
    "\"\"\"\n",
    "class GP_Regressor():\n",
    "    def __init__(self,Xtrain,Ytrain,width,noise):\n",
    "        # Kernel of the observations\n",
    "        self.X = Xtrain\n",
    "        self.Y = Ytrain\n",
    "        self.width = width\n",
    "        self.noise = noise\n",
    "        self.kernel = utils.gaussianKernel(Xtrain, Xtrain, width)\n",
    "        self.kernel_inv = numpy.linalg.inv(self.kernel)\n",
    "        \n",
    "    def predict(self,Xtest):\n",
    "        self.kernel_pred = utils.gaussianKernel(self.X, Xtest, self.width)\n",
    "        mean = np.mean(Xtest, axis=1)\n",
    "        cov = np.cov(Xtest)\n",
    "        return (mean, cov)\n",
    "        \n",
    "    def loglikelihood(self,Xtest,Ytest):\n",
    "        pass\n",
    "    \n",
    "# --------------------------"
   ]
  },
  {
   "cell_type": "markdown",
   "metadata": {},
   "source": [
    "* **Test your implementation by running the code below (it visualizes the mean and variance of the prediction at every location of the input space) and compares the behavior of the Gaussian process for various noise parameters $\\sigma$ and width parameters $w$.**"
   ]
  },
  {
   "cell_type": "code",
   "execution_count": 4,
   "metadata": {},
   "outputs": [
    {
     "name": "stderr",
     "output_type": "stream",
     "text": [
      "/Library/Frameworks/Python.framework/Versions/3.7/lib/python3.7/site-packages/ipykernel_launcher.py:34: RuntimeWarning: Degrees of freedom <= 0 for slice\n",
      "/Library/Frameworks/Python.framework/Versions/3.7/lib/python3.7/site-packages/numpy/lib/function_base.py:2455: RuntimeWarning: divide by zero encountered in true_divide\n",
      "  c *= np.true_divide(1, fact)\n",
      "/Library/Frameworks/Python.framework/Versions/3.7/lib/python3.7/site-packages/numpy/lib/function_base.py:2455: RuntimeWarning: invalid value encountered in multiply\n",
      "  c *= np.true_divide(1, fact)\n"
     ]
    },
    {
     "ename": "TypeError",
     "evalue": "must be real number, not NoneType",
     "output_type": "error",
     "traceback": [
      "\u001b[0;31m---------------------------------------------------------------------------\u001b[0m",
      "\u001b[0;31mTypeError\u001b[0m                                 Traceback (most recent call last)",
      "\u001b[0;32m<ipython-input-4-8b4fa0a5a505>\u001b[0m in \u001b[0;36m<module>\u001b[0;34m\u001b[0m\n\u001b[1;32m     28\u001b[0m         \u001b[0;31m# Plot the data\u001b[0m\u001b[0;34m\u001b[0m\u001b[0;34m\u001b[0m\u001b[0m\n\u001b[1;32m     29\u001b[0m         \u001b[0mp\u001b[0m \u001b[0;34m=\u001b[0m \u001b[0mf\u001b[0m\u001b[0;34m.\u001b[0m\u001b[0madd_subplot\u001b[0m\u001b[0;34m(\u001b[0m\u001b[0;36m3\u001b[0m\u001b[0;34m,\u001b[0m\u001b[0;36m3\u001b[0m\u001b[0;34m,\u001b[0m\u001b[0;36m3\u001b[0m\u001b[0;34m*\u001b[0m\u001b[0mi\u001b[0m\u001b[0;34m+\u001b[0m\u001b[0mj\u001b[0m\u001b[0;34m+\u001b[0m\u001b[0;36m1\u001b[0m\u001b[0;34m)\u001b[0m\u001b[0;34m\u001b[0m\u001b[0m\n\u001b[0;32m---> 30\u001b[0;31m         \u001b[0mp\u001b[0m\u001b[0;34m.\u001b[0m\u001b[0mset_title\u001b[0m\u001b[0;34m(\u001b[0m\u001b[0;34m'noise=%.1f width=%.1f lltrain=%.1f, lltest=%.1f'\u001b[0m\u001b[0;34m%\u001b[0m\u001b[0;34m(\u001b[0m\u001b[0mnoise\u001b[0m\u001b[0;34m,\u001b[0m\u001b[0mwidth\u001b[0m\u001b[0;34m,\u001b[0m\u001b[0mlltrain\u001b[0m\u001b[0;34m,\u001b[0m\u001b[0mlltest\u001b[0m\u001b[0;34m)\u001b[0m\u001b[0;34m)\u001b[0m\u001b[0;34m\u001b[0m\u001b[0m\n\u001b[0m\u001b[1;32m     31\u001b[0m         \u001b[0mp\u001b[0m\u001b[0;34m.\u001b[0m\u001b[0mset_xlabel\u001b[0m\u001b[0;34m(\u001b[0m\u001b[0;34m'x'\u001b[0m\u001b[0;34m)\u001b[0m\u001b[0;34m\u001b[0m\u001b[0m\n\u001b[1;32m     32\u001b[0m         \u001b[0mp\u001b[0m\u001b[0;34m.\u001b[0m\u001b[0mset_ylabel\u001b[0m\u001b[0;34m(\u001b[0m\u001b[0;34m'y'\u001b[0m\u001b[0;34m)\u001b[0m\u001b[0;34m\u001b[0m\u001b[0m\n",
      "\u001b[0;31mTypeError\u001b[0m: must be real number, not NoneType"
     ]
    },
    {
     "data": {
      "image/png": "[encoded data removed]",
      "text/plain": [
       "<Figure size 1296x1080 with 1 Axes>"
      ]
     },
     "metadata": {
      "needs_background": "light"
     },
     "output_type": "display_data"
    }
   ],
   "source": [
    "import utils,datasets,numpy\n",
    "import matplotlib.pyplot as plt\n",
    "%matplotlib inline\n",
    "\n",
    "# Open the toy data\n",
    "Xtrain,Ytrain,Xtest,Ytest = utils.split(*datasets.toy())\n",
    "\n",
    "# Create an analysis distribution\n",
    "Xrange = numpy.arange(-3.5,3.51,0.025)[:,numpy.newaxis]\n",
    "\n",
    "f = plt.figure(figsize=(18,15))\n",
    "\n",
    "# Loop over several parameters:\n",
    "for i,noise in enumerate([2.5,0.5,0.1]):\n",
    "    for j,width in enumerate([0.1,0.5,2.5]):\n",
    "\n",
    "        # Create Gaussian process regressor object\n",
    "        gp = GP_Regressor(Xtrain,Ytrain,width,noise)\n",
    "        \n",
    "        # Compute the predicted mean and variance for test data\n",
    "        mean,cov = gp.predict(Xrange)\n",
    "        var = cov.diagonal()\n",
    "        \n",
    "        # Compute the log-likelihood of training and test data\n",
    "        lltrain = gp.loglikelihood(Xtrain,Ytrain)\n",
    "        lltest  = gp.loglikelihood(Xtest ,Ytest )\n",
    "     \n",
    "        # Plot the data\n",
    "        p = f.add_subplot(3,3,3*i+j+1)\n",
    "        p.set_title('noise=%.1f width=%.1f lltrain=%.1f, lltest=%.1f'%(noise,width,lltrain,lltest))\n",
    "        p.set_xlabel('x')\n",
    "        p.set_ylabel('y')\n",
    "        p.scatter(Xtrain,Ytrain,color='green',marker='x') # training data\n",
    "        p.scatter(Xtest,Ytest,color='green',marker='o')   # test data\n",
    "        p.plot(Xrange,mean,color='blue')                  # GP mean\n",
    "        p.plot(Xrange,mean+var**.5,color='red')           # GP mean + std\n",
    "        p.plot(Xrange,mean-var**.5,color='red')           # GP mean - std\n",
    "        p.set_xlim(-3.5,3.5)\n",
    "        p.set_ylim(-4,4)"
   ]
  },
  {
   "cell_type": "markdown",
   "metadata": {},
   "source": [
    "##Part 2: Application to the Yacht Hydrodynamics Data Set (10 P)\n",
    "\n",
    "In the second part, we would like to apply the Gaussian process regressor that you have implemented to a real dataset: the Yacht Hydrodynamics Data Set available on the UCI repository at the webpage http://archive.ics.uci.edu/ml/datasets/Yacht+Hydrodynamics. As stated on the web page, the input variables for this regression problem are:\n",
    "\n",
    "1. Longitudinal position of the center of buoyancy\n",
    "2. Prismatic coefficient\n",
    "3. Length-displacement ratio\n",
    "4. Beam-draught ratio\n",
    "5. Length-beam ratio\n",
    "6. Froude number\n",
    "\n",
    "and we would like to predict from these variables the residuary resistance per unit weight of displacement (last column in the file `yacht_hydrodynamics.data`).\n",
    "\n",
    "**Tasks:**\n",
    "\n",
    "* **Load the data using `datasets.yacht()` and partition the data between training and test set using the function `utils.split()`. Normalize the data (center and rescale) so that the training data and labels have mean 0 and standard deviation 1 over the dataset for each dimension.**\n",
    "\n",
    "\n",
    "* **Train several Gaussian processes on the regression task using various width and noise parameters.**\n",
    "\n",
    "\n",
    "* **Draw two contour plots where the training and test log-likelihood are plotted as a function of the noise and width parameters. Choose suitable ranges of parameters so that the best parameter combination for the test set is in the plot. Use the same ranges and contour levels for training and test plots.**"
   ]
  },
  {
   "cell_type": "code",
   "execution_count": null,
   "metadata": {},
   "outputs": [],
   "source": [
    "# --------------------------\n",
    "# TODO: Replace by your code\n",
    "# --------------------------\n",
    "import solutions\n",
    "%matplotlib inline\n",
    "solutions.yacht()\n",
    "# --------------------------"
   ]
  }
 ],
 "metadata": {
  "kernelspec": {
   "display_name": "Python 3",
   "language": "python",
   "name": "python3"
  },
  "language_info": {
   "codemirror_mode": {
    "name": "ipython",
    "version": 3
   },
   "file_extension": ".py",
   "mimetype": "text/x-python",
   "name": "python",
   "nbconvert_exporter": "python",
   "pygments_lexer": "ipython3",
   "version": "3.7.0"
  }
 },
 "nbformat": 4,
 "nbformat_minor": 1
}
